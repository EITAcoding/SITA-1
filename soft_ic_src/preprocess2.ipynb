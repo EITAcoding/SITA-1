{
 "cells": [
  {
   "cell_type": "code",
   "execution_count": 75,
   "metadata": {},
   "outputs": [],
   "source": [
    "import os\n",
    "import numpy as np\n",
    "from PIL import Image"
   ]
  },
  {
   "cell_type": "code",
   "execution_count": 76,
   "metadata": {},
   "outputs": [],
   "source": [
    "dic_list = os.listdir('workspace/')"
   ]
  },
  {
   "cell_type": "code",
   "execution_count": 89,
   "metadata": {},
   "outputs": [],
   "source": [
    "def get_contex(_hash):\n",
    "    _pth = '/tf/dataset/MSMO/cleaned_data/test_data/'+_hash+'.story'\n",
    "    context = []\n",
    "    f = open(_pth,'r')\n",
    "    for lines in f.readlines():\n",
    "      \n",
    "        lines = lines.strip()\n",
    "        if lines == '@highlight':\n",
    "            break\n",
    "        else:\n",
    "            context.append(lines)\n",
    "    f.close()\n",
    "    return context\n"
   ]
  },
  {
   "cell_type": "code",
   "execution_count": 90,
   "metadata": {},
   "outputs": [],
   "source": [
    "def read_image(_hc):\n",
    "    i = Image.open('/tf/dataset/MSMO/test_data/img/'+_hc+'.jpg')\n",
    "    return i"
   ]
  },
  {
   "cell_type": "code",
   "execution_count": 102,
   "metadata": {
    "scrolled": true
   },
   "outputs": [],
   "source": [
    " \n",
    "for i in dic_list:\n",
    "    \n",
    "    temp_dict = np.load('workspace/'+i,allow_pickle=True).item()\n",
    "    _pred = temp_dict['_pred']\n",
    "   \n",
    "    att = temp_dict['att']\n",
    "    image_hash = temp_dict['image_hash']\n",
    "    _hash = i.split('.')[0]\n",
    "    if _hash=='6991a11d453bfb7fef2bc358087d3ca10d23c039':\n",
    "        src = get_contex(_hash)\n",
    "        print(_hash)\n",
    "        print(src)\n",
    "        print('--')\n",
    "        print(_pred)\n",
    "        try:\n",
    "           \n",
    "            show_hotsig(att,image_hash)\n",
    "        except:\n",
    "            pass\n",
    "            \n",
    "        for z in image_hash:\n",
    "            print(z)\n",
    "            t_p = read_image(z)\n",
    "            t_p.show()\n",
    "        "
   ]
  },
  {
   "cell_type": "code",
   "execution_count": 72,
   "metadata": {},
   "outputs": [],
   "source": [
    "import matplotlib.pyplot as plt\n",
    "import seaborn as sns\n",
    "import numpy as np\n",
    "import pandas as pd\n",
    "def show_hotsig(a,image_hash):\n",
    "    fig, ax = plt.subplots(figsize = (9,9))\n",
    "    \n",
    "    #二维的数组的热力图，横轴和数轴的ticklabels要加上去的话，既可以通过将array转换成有column\n",
    "    #和index的DataFrame直接绘图生成，也可以后续再加上去。后面加上去的话，更灵活，包括可设置labels大小方向等。\n",
    "    sns.heatmap(pd.DataFrame(a, columns = image_hash, index = range(len(image_hash))), \n",
    "                    annot=True, vmax=1,vmin = 0, xticklabels= True, yticklabels= True, square=True, cmap=\"YlGnBu\")\n",
    "     \n",
    "    ax.set_title('a', fontsize = 18)\n",
    "    ax.set_ylabel('b', fontsize = 18)\n",
    "    ax.set_xlabel('c', fontsize = 18) #横变成y轴，跟矩阵原始的布局情况是一样\n",
    "    plt.show()"
   ]
  },
  {
   "cell_type": "code",
   "execution_count": 63,
   "metadata": {},
   "outputs": [
    {
     "name": "stdout",
     "output_type": "stream",
     "text": [
      "Looking in indexes: https://pypi.tuna.tsinghua.edu.cn/simple\n",
      "Collecting seaborn\n",
      "\u001b[?25l  Downloading https://pypi.tuna.tsinghua.edu.cn/packages/10/5b/0479d7d845b5ba410ca702ffcd7f2cd95a14a4dfff1fde2637802b258b9b/seaborn-0.11.2-py3-none-any.whl (292kB)\n",
      "\u001b[K     |████████████████████████████████| 296kB 1.2MB/s eta 0:00:01\n",
      "\u001b[?25hCollecting scipy>=1.0 (from seaborn)\n",
      "  Using cached https://pypi.tuna.tsinghua.edu.cn/packages/c8/89/63171228d5ced148f5ced50305c89e8576ffc695a90b58fe5bb602b910c2/scipy-1.5.4-cp36-cp36m-manylinux1_x86_64.whl\n",
      "Requirement already satisfied: matplotlib>=2.2 in /usr/local/lib/python3.6/dist-packages (from seaborn) (3.1.0)\n",
      "Requirement already satisfied: numpy>=1.15 in /usr/local/lib/python3.6/dist-packages (from seaborn) (1.16.4)\n",
      "Collecting pandas>=0.23 (from seaborn)\n",
      "\u001b[?25l  Downloading https://pypi.tuna.tsinghua.edu.cn/packages/c3/e2/00cacecafbab071c787019f00ad84ca3185952f6bb9bca9550ed83870d4d/pandas-1.1.5-cp36-cp36m-manylinux1_x86_64.whl (9.5MB)\n",
      "\u001b[K     |████████████████████████████████| 9.5MB 13.0MB/s eta 0:00:01\n",
      "\u001b[?25hRequirement already satisfied: pyparsing!=2.0.4,!=2.1.2,!=2.1.6,>=2.0.1 in /usr/local/lib/python3.6/dist-packages (from matplotlib>=2.2->seaborn) (2.4.0)\n",
      "Requirement already satisfied: python-dateutil>=2.1 in /usr/local/lib/python3.6/dist-packages (from matplotlib>=2.2->seaborn) (2.8.0)\n",
      "Requirement already satisfied: kiwisolver>=1.0.1 in /usr/local/lib/python3.6/dist-packages (from matplotlib>=2.2->seaborn) (1.1.0)\n",
      "Requirement already satisfied: cycler>=0.10 in /usr/local/lib/python3.6/dist-packages (from matplotlib>=2.2->seaborn) (0.10.0)\n",
      "Requirement already satisfied: pytz>=2017.2 in /usr/local/lib/python3.6/dist-packages (from pandas>=0.23->seaborn) (2021.1)\n",
      "Requirement already satisfied: six>=1.5 in /usr/lib/python3/dist-packages (from python-dateutil>=2.1->matplotlib>=2.2->seaborn) (1.11.0)\n",
      "Requirement already satisfied: setuptools in /usr/local/lib/python3.6/dist-packages (from kiwisolver>=1.0.1->matplotlib>=2.2->seaborn) (41.0.1)\n",
      "Installing collected packages: scipy, pandas, seaborn\n",
      "Successfully installed pandas-1.1.5 scipy-1.5.4 seaborn-0.11.2\n",
      "\u001b[33mWARNING: You are using pip version 19.1.1, however version 21.2.4 is available.\n",
      "You should consider upgrading via the 'pip install --upgrade pip' command.\u001b[0m\n"
     ]
    }
   ],
   "source": [
    "!pip install seaborn"
   ]
  },
  {
   "cell_type": "code",
   "execution_count": 98,
   "metadata": {},
   "outputs": [],
   "source": [
    "ic_l = os.listdir('/tf/home_project/PreSumm/data/soft_data/test_pred_ic/')\n",
    "import random\n",
    "ic_l= random.sample(ic_l,100)"
   ]
  },
  {
   "cell_type": "code",
   "execution_count": 101,
   "metadata": {
    "scrolled": false
   },
   "outputs": [],
   "source": [
    "for _n in ic_l:\n",
    "    hash_code = _n.split('.')[0]\n",
    "    context = []\n",
    "    f =open('/tf/home_project/PreSumm/data/soft_data/test_pred_ic/'+_n,'r')\n",
    "    print(hash_code)\n",
    "    for lines in f.readlines():\n",
    "        \n",
    "        lines = lines.strip()\n",
    "        if lines==\"\":continue\n",
    "        else:\n",
    "            image_hash,_cap = lines.split('<$@$>')\n",
    "            print(_cap)\n",
    "            print(image_hash)\n",
    "            img =  read_image(image_hash)\n",
    "            img.show()\n",
    "    print('------------------end')\n",
    "    f.close()"
   ]
  },
  {
   "cell_type": "code",
   "execution_count": null,
   "metadata": {},
   "outputs": [],
   "source": [
    "x = [[0.23,0.37,0.18,0.12],[0.26,0.19,0.29,0.26],[0.32,0.25,0.21,0.22],[0.16,0.17,0.31,0.36]]"
   ]
  }
 ],
 "metadata": {
  "kernelspec": {
   "display_name": "Python 3",
   "language": "python",
   "name": "python3"
  },
  "language_info": {
   "codemirror_mode": {
    "name": "ipython",
    "version": 3
   },
   "file_extension": ".py",
   "mimetype": "text/x-python",
   "name": "python",
   "nbconvert_exporter": "python",
   "pygments_lexer": "ipython3",
   "version": "3.6.8"
  }
 },
 "nbformat": 4,
 "nbformat_minor": 2
}
